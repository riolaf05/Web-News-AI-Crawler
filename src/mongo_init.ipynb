{
 "cells": [
  {
   "cell_type": "code",
   "execution_count": 1,
   "metadata": {},
   "outputs": [
    {
     "name": "stdout",
     "output_type": "stream",
     "text": [
      "Collecting pymongo\n",
      "  Downloading pymongo-3.11.3-cp37-cp37m-manylinux2014_x86_64.whl (512 kB)\n",
      "\u001b[K     |████████████████████████████████| 512 kB 4.6 MB/s eta 0:00:01\n",
      "\u001b[?25hInstalling collected packages: pymongo\n",
      "Successfully installed pymongo-3.11.3\n",
      "\u001b[33mWARNING: You are using pip version 20.2.4; however, version 21.0.1 is available.\n",
      "You should consider upgrading via the '/opt/conda/bin/python -m pip install --upgrade pip' command.\u001b[0m\n"
     ]
    }
   ],
   "source": [
    "!pip3 install pymongo"
   ]
  },
  {
   "cell_type": "code",
   "execution_count": 52,
   "metadata": {},
   "outputs": [
    {
     "data": {
      "text/plain": [
       "\"\\nmongodb:\\n    image : mongo\\n    container_name: mongodb\\n    environment:\\n    - PUID=1000\\n    - PGID=1000\\n    networks:\\n      - mynet\\n    expose:\\n      - '27017'\\n    ports:\\n    - 27017:27017\\n\""
      ]
     },
     "execution_count": 52,
     "metadata": {},
     "output_type": "execute_result"
    }
   ],
   "source": [
    "#launch mongodb local for testing with docker compose\n",
    "'''\n",
    "mongodb:\n",
    "    image : mongo\n",
    "    container_name: mongodb\n",
    "    environment:\n",
    "    - PUID=1000\n",
    "    - PGID=1000\n",
    "    networks:\n",
    "      - mynet\n",
    "    expose:\n",
    "      - '27017'\n",
    "    ports:\n",
    "    - 27017:27017\n",
    "'''"
   ]
  },
  {
   "cell_type": "code",
   "execution_count": 73,
   "metadata": {},
   "outputs": [],
   "source": [
    "import pymongo\n",
    "\n",
    "host='mongodb'\n",
    "port='27017'\n",
    "database_name='feed_news'\n",
    "collection_name='feed_news_collection'"
   ]
  },
  {
   "cell_type": "code",
   "execution_count": 74,
   "metadata": {},
   "outputs": [],
   "source": [
    "#create DB and collection\n",
    "myclient = pymongo.MongoClient(\"mongodb://{}:{}/\".format(host, port))\n",
    "mydb = myclient[database_name]\n",
    "mycol = mydb[collection_name]"
   ]
  },
  {
   "cell_type": "code",
   "execution_count": 69,
   "metadata": {},
   "outputs": [
    {
     "data": {
      "text/plain": [
       "<pymongo.results.InsertOneResult at 0x7fdb0418ebe0>"
      ]
     },
     "execution_count": 69,
     "metadata": {},
     "output_type": "execute_result"
    }
   ],
   "source": [
    "#test insert\n",
    "mydict = { \"url\": \"https://www.hdmotori.it/nissan/articoli/n533400/nissan-qashqai-2021-motori-interni-ibrido-uscita/\", \"text\": \"lorem ipsum...\", \"like\" : False}\n",
    "res = mycol.insert_one(mydict)\n",
    "res"
   ]
  },
  {
   "cell_type": "code",
   "execution_count": 75,
   "metadata": {},
   "outputs": [
    {
     "data": {
      "text/plain": [
       "<pymongo.results.UpdateResult at 0x7fdb051e0780>"
      ]
     },
     "execution_count": 75,
     "metadata": {},
     "output_type": "execute_result"
    }
   ],
   "source": [
    "#update\n",
    "myquery = { \"url\": \"https://www.hdmotori.it/nissan/articoli/n533400/nissan-qashqai-2021-motori-interni-ibrido-uscita/\" }\n",
    "newvalues = { \"$set\": { \"like\": False } }\n",
    "mycol.update_one(myquery, newvalues)"
   ]
  },
  {
   "cell_type": "code",
   "execution_count": 76,
   "metadata": {},
   "outputs": [
    {
     "name": "stdout",
     "output_type": "stream",
     "text": [
      "{'_id': ObjectId('601c288e75e8e2225ae246f2'), 'url': 'https://www.hdmotori.it/nissan/articoli/n533400/nissan-qashqai-2021-motori-interni-ibrido-uscita/', 'text': 'lorem ipsum...', 'like': False}\n"
     ]
    }
   ],
   "source": [
    "#print all\n",
    "for x in mycol.find():\n",
    "  print(x)"
   ]
  },
  {
   "cell_type": "code",
   "execution_count": 66,
   "metadata": {},
   "outputs": [],
   "source": [
    "#drop collection\n",
    "mycol.drop()"
   ]
  },
  {
   "cell_type": "code",
   "execution_count": null,
   "metadata": {},
   "outputs": [],
   "source": []
  }
 ],
 "metadata": {
  "kernelspec": {
   "display_name": "Python 3",
   "language": "python",
   "name": "python3"
  },
  "language_info": {
   "codemirror_mode": {
    "name": "ipython",
    "version": 3
   },
   "file_extension": ".py",
   "mimetype": "text/x-python",
   "name": "python",
   "nbconvert_exporter": "python",
   "pygments_lexer": "ipython3",
   "version": "3.7.4"
  }
 },
 "nbformat": 4,
 "nbformat_minor": 4
}
